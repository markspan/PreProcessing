{
 "cells": [
  {
   "cell_type": "markdown",
   "id": "66299b77",
   "metadata": {
    "tags": []
   },
   "source": [
    "# Preprocessing Cheat Sheet\n",
    "```PSMCV-2.2022-2023.1```\n",
    "\n",
    "Author: Robbert van der Mijn, w.r.van.der.mijn@rug.nl, 2022\n",
    "\n",
    "Here you'll find just the scripts that are useful during preprocessing"
   ]
  },
  {
   "cell_type": "markdown",
   "id": "c95d13c2-b59a-4c98-95a4-778c16add04e",
   "metadata": {},
   "source": [
    "## Modules and Packages"
   ]
  },
  {
   "cell_type": "code",
   "execution_count": null,
   "id": "8ad34982-86c4-4b33-b00c-1aeb56ebe0f3",
   "metadata": {},
   "outputs": [],
   "source": [
    "!pip install eyelinkparser"
   ]
  },
  {
   "cell_type": "code",
   "execution_count": null,
   "id": "453eec86",
   "metadata": {},
   "outputs": [],
   "source": [
    "from datamatrix import (\n",
    "    plot,\n",
    "    operations as ops,\n",
    "    series as srs,\n",
    "    functional as fnc,\n",
    "    SeriesColumn,\n",
    ")\n",
    "from eyelinkparser import parse, defaulttraceprocessor\n",
    "import numpy as np\n",
    "from matplotlib import pyplot as plt\n",
    "import matplotlib.font_manager\n",
    "\n",
    "%load_ext rpy2.ipython"
   ]
  },
  {
   "cell_type": "code",
   "execution_count": null,
   "id": "bd0d7bd2-12aa-4fb6-a55f-b752e30d3d80",
   "metadata": {},
   "outputs": [],
   "source": [
    "from functools import partial\n",
    "from rpy2.ipython import html\n",
    "html.html_rdataframe=partial(html.html_rdataframe, table_class=\"docutils\")\n",
    "from rpy2.robjects.packages import importr\n",
    "utils = importr('utils')"
   ]
  },
  {
   "cell_type": "markdown",
   "id": "d7f27b13-a3ef-4394-bcdd-85bc251aad68",
   "metadata": {},
   "source": [
    "## Declaring a function"
   ]
  },
  {
   "cell_type": "code",
   "execution_count": null,
   "id": "f02bf957",
   "metadata": {},
   "outputs": [],
   "source": [
    "@fnc.memoize(persistent=True)\n",
    "def my_preprocessor():\n",
    "    \n",
    "    dm = parse(\n",
    "        traceprocessor = defaulttraceprocessor(\n",
    "          blinkreconstruct = \"advanced\", \n",
    "          downsample = None\n",
    "        )\n",
    "    )\n",
    "    \n",
    "    # define the max depth manually: baseline, problem, fixation, response and feedback\n",
    "    MAX_DEPTH = 1500 + 800 + 2500 + 2000 \n",
    "\n",
    "    # get the current max depth, we'll be cutting it off later\n",
    "    max_depth = dm.ptrace_baseline.depth + dm.ptrace_problem.depth + dm.ptrace_fixation.depth + dm.ptrace_response.depth + dm.ptrace_feedback.depth\n",
    "\n",
    "    # Create new series column that will hold our new pupil trace\n",
    "    dm.pupil = SeriesColumn(depth = max_depth)\n",
    "\n",
    "    # For each trial, trim pupil traces based on the nan values in the time trace (there are more elegant solutions I'm sure)\n",
    "    for i, row in enumerate(dm):\n",
    "        ptrace_baseline = row.ptrace_baseline[~np.isnan(row.ttrace_baseline)]\n",
    "        ptrace_problem = row.ptrace_problem[~np.isnan(row.ttrace_problem)]\n",
    "        ptrace_fixation = row.ptrace_fixation[~np.isnan(row.ttrace_fixation)]\n",
    "        ptrace_response = row.ptrace_response[~np.isnan(row.ttrace_response)]\n",
    "        ptrace_feedback = row.ptrace_feedback[~np.isnan(row.ttrace_feedback)]\n",
    "        \n",
    "        # Concatenate and pad so they're all the same depth\n",
    "        pupil = np.concatenate((ptrace_baseline, ptrace_problem, ptrace_fixation, ptrace_response, ptrace_feedback))\n",
    "        pupil = np.pad(pupil, (0, max_depth - len(pupil)), \"constant\", constant_values = np.nan)\n",
    "        \n",
    "        # Write this trial to the original dm\n",
    "        dm.pupil[i] = pupil\n",
    "        \n",
    "    # Trim the original dm to our manual depth (the feedback phase of some of the really long trials will be cut off)\n",
    "    dm.pupil.depth = MAX_DEPTH\n",
    "    \n",
    "    dm = dm[(\"subject_nr\", \"pupil\", \"count_trial_sequence\", \"correct\", \"difficulty\", \"practice\")]\n",
    "    \n",
    "    return dm\n",
    "\n",
    "# my_preprocessor.clear() # you can run this line to clear the stored output of the function\n",
    "dm = my_preprocessor()"
   ]
  },
  {
   "cell_type": "markdown",
   "id": "8ae43eb1-9fa6-418b-9d72-3e55bc034f83",
   "metadata": {},
   "source": [
    "## Saving plots as pngs"
   ]
  },
  {
   "cell_type": "code",
   "execution_count": null,
   "id": "24265ca2-0995-41fe-bb37-44c5c2dd726e",
   "metadata": {},
   "outputs": [],
   "source": [
    "plt.plot(dm.pupil[0], color = \"black\")\n",
    "plt.ylim(300, 2700)\n",
    "plt.savefig('single_trial.png', bbox_inches='tight')\n",
    "\n",
    "plt.figure()\n",
    "for row in dm:    \n",
    "    plt.plot(row.pupil, alpha = .1, color = \"black\")\n",
    "plt.ylim(300, 2700)\n",
    "plt.savefig('all_trials.png', bbox_inches='tight')"
   ]
  },
  {
   "cell_type": "code",
   "execution_count": null,
   "id": "dc154963-0c5e-4978-861d-24d5bd600828",
   "metadata": {
    "tags": []
   },
   "outputs": [],
   "source": [
    "dm.pupil_reconstructed = srs.blinkreconstruct(dm.pupil, mode = \"advanced\")\n",
    "dm.pupil_baselined = srs.baseline(dm.pupil_reconstructed, dm.pupil_reconstructed, bl_start = 1480, bl_end = 1500)\n",
    "\n",
    "DS = 10\n",
    "DUR = 300\n",
    "SAMPDUR = 1\n",
    "pupil = dm.pupil_baselined[0, :DUR]\n",
    "time = np.arange(DUR)\n",
    "pupil_ds = srs.downsample(dm.pupil_baselined[0, :DUR], DS)\n",
    "time_ds = np.arange((DS * SAMPDUR)/2, DUR, step = DS * SAMPDUR) # a new time vector must also be created\n",
    "\n",
    "ZOOM_IN = 60\n",
    "plt.figure()\n",
    "plt.plot(time[:ZOOM_IN], pupil[:ZOOM_IN], \"-\", color = \"blue\")\n",
    "plt.plot(time[:ZOOM_IN], pupil[:ZOOM_IN], \".\", color = \"blue\", ms = 10)\n",
    "plt.ylim(5, 32)\n",
    "plt.xlim(0, 60)\n",
    "plt.xlabel(\"Time (ms)\")\n",
    "plt.ylabel(\"Pupil\")\n",
    "plt.savefig('ds1.png', bbox_inches='tight')\n",
    "\n",
    "plt.figure()\n",
    "plt.plot(time[:ZOOM_IN], pupil[:ZOOM_IN], \"-\", color = \"blue\")\n",
    "plt.plot(time[:ZOOM_IN], pupil[:ZOOM_IN], \".\", color = \"blue\", ms = 10)\n",
    "plt.plot(time_ds[:int(ZOOM_IN/DS)], pupil_ds[:int(ZOOM_IN/DS)], \"-\", color = \"red\")\n",
    "plt.plot(time_ds[:int(ZOOM_IN/DS)], pupil_ds[:int(ZOOM_IN/DS)], \".\", color = \"red\", ms = 10)\n",
    "plt.ylim(5, 32)\n",
    "plt.xlim(0, 60)\n",
    "plt.xlabel(\"Time (ms)\")\n",
    "plt.ylabel(\"Pupil\")\n",
    "plt.savefig('ds2.png', bbox_inches='tight')"
   ]
  },
  {
   "cell_type": "code",
   "execution_count": null,
   "id": "564d34a6-0ef4-42f5-967a-cf79585d463f",
   "metadata": {},
   "outputs": [],
   "source": [
    "CON_COLS = {\"easy\": \"blue\", \"hard\": \"red\"}\n",
    "plt.figure()\n",
    "for c, cdm in ops.split(dm.difficulty):\n",
    "    plot.trace(cdm.pupil_baselined, color = CON_COLS[c], label = c)\n",
    "plt.xlim(0, 6000)\n",
    "plt.xlabel(\"Time (ms)\")\n",
    "plt.ylabel(\"Pupil\")\n",
    "plt.legend(frameon = False)\n",
    "plt.savefig('mean.png', bbox_inches='tight')"
   ]
  },
  {
   "cell_type": "code",
   "execution_count": null,
   "id": "a0249721-e13c-4f5e-b498-00fad1930486",
   "metadata": {},
   "outputs": [],
   "source": []
  }
 ],
 "metadata": {
  "kernelspec": {
   "display_name": "Python 3 (ipykernel)",
   "language": "python",
   "name": "python3"
  },
  "language_info": {
   "codemirror_mode": {
    "name": "ipython",
    "version": 3
   },
   "file_extension": ".py",
   "mimetype": "text/x-python",
   "name": "python",
   "nbconvert_exporter": "python",
   "pygments_lexer": "ipython3",
   "version": "3.12.4"
  },
  "toc-autonumbering": false,
  "toc-showcode": false,
  "toc-showmarkdowntxt": false
 },
 "nbformat": 4,
 "nbformat_minor": 5
}
