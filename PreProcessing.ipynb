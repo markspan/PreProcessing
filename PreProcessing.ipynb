{
 "cells": [
  {
   "cell_type": "markdown",
   "id": "66299b77",
   "metadata": {
    "tags": []
   },
   "source": [
    "# Preprocessing Cheat Sheet\n",
    "```PSMCV-2.2024-2025.1```\n",
    "\n",
    "Authors: \n",
    "- Robbert van der Mijn, w.r.van.der.mijn@rug.nl, 2022\n",
    "- Mark Span, m.m.span@rug.nl, 2024\n",
    "\n",
    "See also the tutorial at: https://pydatamatrix.eu/1.0/eyelinkparser/\n",
    "\n",
    "and definitely:\n",
    "\n",
    "Mathôt S, Vilotijević A. Methods in cognitive pupillometry: Design, preprocessing, and statistical analysis. Behav Res Methods. 2023 Sep;55(6):3055-3077. doi: 10.3758/s13428-022-01957-7. Epub 2022 Aug 26. PMID: 36028608; PMCID: PMC10556184.\n",
    "\n",
    "Additional References\n",
    "Kahneman, D., & Beatty, J. (1966). Pupil diameter and load on memory. Science, 154(3756), 1583–1585. https://doi.org/10.1126/science.154.3756.1583\n",
    "Mathôt, S., (2018). Pupillometry: Psychology, Physiology, and Function. Journal of Cognition. 1(1), p.16. https://doi.org/10.5334/joc.18"
   ]
  },
  {
   "cell_type": "markdown",
   "id": "92080baa-c0c8-478b-8f3d-b7bcb4150f38",
   "metadata": {},
   "source": [
    "# Experiment Overview\n",
    "\n",
    "We are conducting an experiment to analyze how subjects decide whether the provided answer to arithmetic problems is correct or incorrect. The experiment includes both simple and moderately challenging arithmetic problems. The hypothesis is that solving more difficult problems will elicit different pupil responses compared to simpler problems.\n",
    "\n",
    "### Subjects and Task\n",
    "Four subjects participated in the task. Each subject was presented with an arithmetic problem displayed on the screen, followed by a suggested answer. The subjects then responded by pressing the 'f' key if they believed the answer was incorrect, or the 'j' key if they believed the answer was correct. The objective is to measure the accuracy and response time in relation to the difficulty of the problems.\n",
    "\n",
    "### Eyetracker Integration\n",
    "To monitor the different stages of each trial, we sent specific messages to the eyetracker, which are embedded within the eyetracker data. These messages help in segmenting the data according to the phases of the trial. The sequence of phases and corresponding messages used in OpenSesame is as follows:\n",
    "\n",
    "1. Start Trial: Initiated with the message \"start_trial\".\n",
    "1. Baseline Phase: Marked with the message \"baseline\".\n",
    "1. Problem Presentation: Indicated by the message \"problem\".\n",
    "1. Fixation Phase: Marked by the message \"fixation\".\n",
    "1. Response Phase: Denoted by the message \"response\".\n",
    "1. Feedback Phase: Signified by the message \"feedback\".\n",
    "1. End Trial: Concluded with the message \"stop_trial\".\n",
    "\n",
    "### Data Collection\n",
    "For each trial, the following data points are recorded:\n",
    "\n",
    "Difficulty: The level of difficulty of the arithmetic problem (simple or more difficult).\n",
    "Response: The key pressed by the subject ('f' or 'j').\n",
    "Correctness: Whether the subject's response was correct or incorrect.\n",
    "\n",
    "This detailed data collection allows us to analyze the relationship between problem difficulty, pupil response, and the accuracy of the subject's answers."
   ]
  },
  {
   "cell_type": "markdown",
   "id": "c95d13c2-b59a-4c98-95a4-778c16add04e",
   "metadata": {},
   "source": [
    "## Modules and Packages\n",
    "\n",
    "This section outlines the necessary modules and packages required for the analysis of the pupil data. Ensure that all these packages are installed in your environment.\n",
    "\n",
    "- **eyelinkparser**: A package for parsing EyeLink data files.\n",
    "- **datamatrix**: A library for working with data matrices, providing functionality for data manipulation and analysis.\n",
    "- **numpy**: A fundamental package for numerical computations in Python.\n",
    "- **scipy**: A library used for scientific and technical computing.\n",
    "- **prettytable**: A module to create ASCII tables in Python.\n"
   ]
  },
  {
   "cell_type": "code",
   "execution_count": null,
   "id": "8ad34982-86c4-4b33-b00c-1aeb56ebe0f3",
   "metadata": {},
   "outputs": [],
   "source": [
    "# Install the eyelinkparser package which is used for parsing EyeLink data files, if not already present. \n",
    "!pip install eyelinkparser"
   ]
  },
  {
   "cell_type": "markdown",
   "id": "5ac7c5b5-e133-418d-83db-94d227e5d62d",
   "metadata": {},
   "source": [
    "## Data Loading\n",
    "\n",
    "This section covers the steps required to load the data into the notebook.\n",
    "\n",
    "The data will be represented in python using DataMatrices. These are structures tailored to be able to contain the information that is associated with trial-based eyetracking data.\n",
    "\n",
    "To imagine what your data should look like, we first take a step back: \n",
    "\n",
    "For each phase, timeseries will be created with information about fixations:\n",
    "\n",
    "- fixxlist_[phase name] is a series of X coordinates\n",
    "- fixylist_[phase name] is a series of Y coordinates\n",
    "- fixstlist_[phase name] is a series of fixation start times\n",
    "- fixetlist_[phase name] is a series of fixation end times\n",
    "\n",
    "and info on the blinks:\n",
    "\n",
    "- blinkstlist_[phase name] is a series of blink start times\n",
    "- blinketlist_[phase name] is a series of blink end times\n",
    "\n",
    "Additionally, four columns will be created with information about individual gaze samples:\n",
    "\n",
    "- xtrace_[phase name] is a series of X coordinates\n",
    "- ytrace_[phase name] is a series of Y coordinates\n",
    "- ttrace_[phase name] is a series of time stamps\n",
    "- ptrace_[phase name] is a series of pupil sizes\n",
    "\n",
    "**We** are only interested in the last trace. This is the size of the pupil, in \"Arbitrary Units\".\n"
   ]
  },
  {
   "cell_type": "code",
   "execution_count": null,
   "id": "453eec86",
   "metadata": {},
   "outputs": [],
   "source": [
    "# Datamatrix is also from Sebastiaan. You need a conveinient method to manage all your data.\n",
    "# The code below is needed to use the libraries that do the hard work for us.\n",
    "\n",
    "from datamatrix import (\n",
    "    plot,\n",
    "    operations as ops,\n",
    "    series as srs,\n",
    "    functional as fnc,\n",
    "    SeriesColumn,\n",
    ")\n",
    "\n",
    "from eyelinkparser import parse, defaulttraceprocessor\n",
    "import numpy as np\n",
    "from matplotlib import pyplot as plt\n",
    "import matplotlib.font_manager\n"
   ]
  },
  {
   "cell_type": "markdown",
   "id": "d7f27b13-a3ef-4394-bcdd-85bc251aad68",
   "metadata": {},
   "source": [
    "## Declaring a function"
   ]
  },
  {
   "cell_type": "markdown",
   "id": "3783dc22-66a1-422b-8a7a-12232e52268d",
   "metadata": {},
   "source": [
    "The eyelinkparser needs info from you on what your trials look like (the *phases*. Therefore you need to write a function that reads in your trials and defines its structure in there. Like this:"
   ]
  },
  {
   "cell_type": "code",
   "execution_count": null,
   "id": "f02bf957",
   "metadata": {},
   "outputs": [],
   "source": [
    "def my_preprocessor():\n",
    "    \n",
    "    dm = parse(\n",
    "        traceprocessor = defaulttraceprocessor(\n",
    "          blinkreconstruct = True,\n",
    "          mode= 'advanced',\n",
    "          downsample = None\n",
    "        )\n",
    "    )\n",
    "    \n",
    "    # define the max depth manually: baseline, problem, fixation, response and feedback\n",
    "    MAX_DEPTH = 1500 + 800 + 2500 + 2000 \n",
    "\n",
    "    # get the current max depth, we'll be cutting it off later\n",
    "    max_depth = dm.ptrace_baseline.depth + dm.ptrace_problem.depth + dm.ptrace_fixation.depth + dm.ptrace_response.depth + dm.ptrace_feedback.depth\n",
    "\n",
    "    # Create new series column that will hold our new pupil trace\n",
    "    dm.pupil = SeriesColumn(depth = max_depth)\n",
    "\n",
    "    # For each trial, trim pupil traces based on the nan values in the time trace (there are more elegant solutions I'm sure)\n",
    "    for i, row in enumerate(dm):\n",
    "        ptrace_baseline = row.ptrace_baseline[~np.isnan(row.ttrace_baseline)]\n",
    "        ptrace_problem  = row.ptrace_problem[~np.isnan(row.ttrace_problem)]\n",
    "        ptrace_fixation = row.ptrace_fixation[~np.isnan(row.ttrace_fixation)]\n",
    "        ptrace_response = row.ptrace_response[~np.isnan(row.ttrace_response)]\n",
    "        ptrace_feedback = row.ptrace_feedback[~np.isnan(row.ttrace_feedback)]\n",
    "        \n",
    "        # Concatenate and pad so they're all the same depth\n",
    "        pupil = np.concatenate((ptrace_baseline, ptrace_problem, ptrace_fixation, ptrace_response, ptrace_feedback))\n",
    "        pupil = np.pad(pupil, (0, max_depth - len(pupil)), \"constant\", constant_values = np.nan)\n",
    "        \n",
    "        # Write this trial to the original dm\n",
    "        dm.pupil[i] = pupil\n",
    "        \n",
    "    # Trim the original dm to our manual depth (the feedback phase of some of the really long trials will be cut off)\n",
    "    dm.pupil.depth = MAX_DEPTH\n",
    "    # and return only the data we want to analyse. \n",
    "    dm = dm[(\"subject_nr\", \"pupil\", \"count_trial_sequence\", \"correct\", \"difficulty\", \"practice\")]\n",
    "    \n",
    "    return dm\n"
   ]
  },
  {
   "cell_type": "markdown",
   "id": "64ecfeb0-333f-4f91-927a-72f62be24838",
   "metadata": {},
   "source": [
    "Notice that running the above code does nothing yet. It defines a function that will read your data, and creates a timeseries for each trial containing the pupilsize data. Also, note that for your own experiment, you will have to supply the phases that define your trial, and the total time that a trial can take in this part of your script!"
   ]
  },
  {
   "cell_type": "code",
   "execution_count": null,
   "id": "8a14ee4e-9eed-4a22-8927-1a9fd1b5117c",
   "metadata": {},
   "outputs": [],
   "source": [
    "# Actually reading the data \n",
    "\n",
    "dm = my_preprocessor()\n",
    "dm"
   ]
  },
  {
   "cell_type": "markdown",
   "id": "aef44458-4f7f-457d-9ce5-73b5150af6ac",
   "metadata": {},
   "source": [
    "Again: notice that ```dm``` is a *datamatrix*. It contains all the data we need to analyse the pupil responses to each of the trial categories."
   ]
  },
  {
   "cell_type": "markdown",
   "id": "348c3d33-ba35-4fc4-9f12-64d88d143972",
   "metadata": {},
   "source": [
    "Now select the non-practice trials:"
   ]
  },
  {
   "cell_type": "code",
   "execution_count": null,
   "id": "860c2ed7-d747-4791-ad4a-eae2ffff88dc",
   "metadata": {},
   "outputs": [],
   "source": [
    "dm = (dm.practice == 'no')\n",
    "dm"
   ]
  },
  {
   "cell_type": "markdown",
   "id": "4421a495-9e8a-4800-a787-95499d5c13c2",
   "metadata": {},
   "source": [
    "Of course, you could also select only the correct trials here. We will not do so, so we can show you how to plot and test multiple variable designs."
   ]
  },
  {
   "cell_type": "markdown",
   "id": "00818807-f971-4da7-bada-b8c58848eda8",
   "metadata": {},
   "source": [
    "# Blinkreconstruction\n",
    "\n",
    "(One of) the most interesting parts of the eyelinkparser is this:\n",
    "\n",
    "```\n",
    "dm = parse(\n",
    "        traceprocessor = defaulttraceprocessor(\n",
    "          blinkreconstruct = True,\n",
    "          mode= 'advanced',\n",
    "          downsample = None\n",
    "        )\n",
    "    )\n",
    "```\n",
    "\n",
    "In our analysis, blink reconstruction is enabled with the mode set to 'advanced'. During blinks, data on pupil size is unavailable. To address this, the parser imputes the missing data based on established methods [reference needed]. The procedure involves two main steps:\n",
    "\n",
    "1. Correction of Blink-Affected Data: The time series data immediately before and after a blink, which may be influenced by the blink (due to the closing and reopening of the eyes), are adjusted to mitigate any artifacts caused by the blink. This ensures that the data reflects the true pupil size changes rather than the mechanical effects of blinking.\n",
    "\n",
    "1. Interpolation During Blinks: The time series data during the blink itself, where data is completely missing, is interpolated. This interpolation fills in the missing data points in a way that maintains the continuity and trend of the pupil size data, providing a seamless transition across the blink period.\n",
    "\n",
    "This advanced blink reconstruction technique ensures that the pupil size data is as accurate and reliable as possible, minimizing the impact of blinks on the overall analysis.\n",
    "\n"
   ]
  },
  {
   "cell_type": "markdown",
   "id": "639673ca-0f5f-469f-ab44-3599a97afaf6",
   "metadata": {},
   "source": [
    "## Data Cleaning\n",
    "\n",
    "In this example, the data cleaning is automated. This is not always possible, and therefore this placeholder title is inserted. If needed: Clean your data here."
   ]
  },
  {
   "cell_type": "markdown",
   "id": "e4473bf8-0b4a-4784-944e-78f8f3a7c63c",
   "metadata": {},
   "source": [
    "## Baseline Correction"
   ]
  },
  {
   "cell_type": "markdown",
   "id": "26e210d7-b958-4f7b-8890-34a64d559749",
   "metadata": {},
   "source": [
    "As we are interested in the *reaction* of the pupil, we start with a baseline correction. The period just before our period of interest is defined as a baseline, and set to 0. The change from this baseline now is the variable we are testing and plotting.\n",
    "\n",
    "As a baseline, we could use the last ten samples of the basline trace. As the basline is 1500 smples long, we can define this as follows:\n"
   ]
  },
  {
   "cell_type": "code",
   "execution_count": null,
   "id": "8468fb65-2441-4d2f-aabc-6e38b61d2b21",
   "metadata": {},
   "outputs": [],
   "source": [
    "dm.pupil = srs.baseline(\n",
    "    series=dm.pupil,\n",
    "    baseline=dm.pupil,\n",
    "    bl_start=1490,\n",
    "    bl_end=1500\n",
    ")"
   ]
  },
  {
   "cell_type": "markdown",
   "id": "4bad544b-aa42-4019-83f4-c3a7d96960d9",
   "metadata": {},
   "source": [
    "## Data Visualization\n",
    "\n",
    "This section provides methods for visualizing the data to gain insights."
   ]
  },
  {
   "cell_type": "markdown",
   "id": "8ae43eb1-9fa6-418b-9d72-3e55bc034f83",
   "metadata": {},
   "source": [
    "### Saving plots as pngs"
   ]
  },
  {
   "cell_type": "markdown",
   "id": "7cc12609-11ca-473d-8a67-017fc71b4fad",
   "metadata": {},
   "source": [
    "We use MatPlotLib for plotting here. There is sometimes an issue with the fonts matplotlib defaults to. Hopefully this is a fix for that. If you have many warnings about fonts, please let me know..."
   ]
  },
  {
   "cell_type": "code",
   "execution_count": null,
   "id": "7e3f11ca-283b-4f22-a755-f581e9bb7719",
   "metadata": {},
   "outputs": [],
   "source": [
    "import matplotlib as mpl\n",
    "import matplotlib.font_manager\n",
    "matplotlib.font_manager.findSystemFonts(fontpaths=None, fontext='ttf')\n",
    "\n",
    "mpl.rcParams['font.family'] = \"sans-serif\"\n",
    "mpl.rcParams['font.sans-serif'] = \"DejaVu Sans\""
   ]
  },
  {
   "cell_type": "markdown",
   "id": "fac86962-5345-494e-b7c8-b2732783d1b1",
   "metadata": {},
   "source": [
    "# Individual Traces"
   ]
  },
  {
   "cell_type": "markdown",
   "id": "00f1fbd9-8ddb-4d42-b4e3-e7c94fc41e48",
   "metadata": {},
   "source": [
    "Plot all different traces into one single plot. This will reveal problems in your data."
   ]
  },
  {
   "cell_type": "code",
   "execution_count": null,
   "id": "ec83f8dc-5d06-46b2-a7ca-61a451772584",
   "metadata": {},
   "outputs": [],
   "source": [
    "for row in dm:    \n",
    "    plt.plot(row.pupil, alpha = .1, color = \"black\")\n",
    "plt.ylim(-500, 500)\n",
    "plt.savefig('all_trials.png', bbox_inches='tight')"
   ]
  },
  {
   "cell_type": "markdown",
   "id": "4441bbe6-0690-41e0-877b-d5424fc1706b",
   "metadata": {},
   "source": [
    "Note the \"bow-tie\" shape of the plot. Why is that?"
   ]
  },
  {
   "cell_type": "markdown",
   "id": "10592b6a-ef2f-4cec-88b6-5fbe4aa0ab20",
   "metadata": {},
   "source": [
    "# Grand averages\n",
    "\n",
    "Plot the overall average pupil size during the trials:"
   ]
  },
  {
   "cell_type": "code",
   "execution_count": null,
   "id": "24265ca2-0995-41fe-bb37-44c5c2dd726e",
   "metadata": {},
   "outputs": [],
   "source": [
    "plt.plot(dm.pupil[0], color = \"black\")\n",
    "plt.ylim(-500, 500)\n",
    "plt.savefig('single_trial.png', bbox_inches='tight')"
   ]
  },
  {
   "cell_type": "markdown",
   "id": "26d6d439-debb-4c81-93c5-1d1d1d6c521d",
   "metadata": {},
   "source": [
    "# Testing the effects\n"
   ]
  },
  {
   "cell_type": "markdown",
   "id": "65808367-5413-435f-8e96-837fa41b3486",
   "metadata": {},
   "source": [
    "reference: https://github.com/smathot/time_series_test\n"
   ]
  },
  {
   "cell_type": "code",
   "execution_count": null,
   "id": "f7a91293-61f5-41e9-b03c-14a7f3a4ddb9",
   "metadata": {},
   "outputs": [],
   "source": [
    "!pip install time_series_test"
   ]
  },
  {
   "cell_type": "markdown",
   "id": "6f86cfe7-e112-4f24-983d-16322137264c",
   "metadata": {},
   "source": [
    "# Plotting the experimental effects:\n",
    "\n",
    "The *time_series_test* package (also) has easy plotting functions."
   ]
  },
  {
   "cell_type": "code",
   "execution_count": null,
   "id": "78c6b662-833d-4708-bb0f-8c987fbe5fdf",
   "metadata": {},
   "outputs": [],
   "source": [
    "import time_series_test as tst\n",
    "from matplotlib import pyplot as plt\n",
    "\n",
    "tst.plot(dm, dv='pupil', hue_factor='difficulty', linestyle_factor='correct')\n",
    "plt.savefig('signal-plot-1.png')"
   ]
  },
  {
   "cell_type": "markdown",
   "id": "e987666c-a2bd-498e-91ba-3e6a694d6057",
   "metadata": {},
   "source": [
    "The model below uses mean pupil size during the 2500 - 3000 sample range as dependent measure, set size and color type as fixed effects, and a random by-subject intercept. In the more familiar notation of the R package lme4, this corresponds to ```mean_pupil ~ difficulty + correct + (1 | subject_nr)```. (To use more complex random-effects structures, you can use the re_formula argument to mixedlm().)"
   ]
  },
  {
   "cell_type": "code",
   "execution_count": null,
   "id": "dc9fdf78-3efe-4ed1-ac2e-64a964bc2dc9",
   "metadata": {},
   "outputs": [],
   "source": [
    "from statsmodels.formula.api import mixedlm\n",
    "from datamatrix import series as srs, NAN\n",
    "\n",
    "dm.mean_pupil = srs.reduce(dm.pupil[:, 2500:3000])\n",
    "dm_valid_data = dm.mean_pupil != NAN\n",
    "model = mixedlm(formula='mean_pupil ~ difficulty + correct',\n",
    "                data=dm_valid_data, groups='subject_nr').fit()\n",
    "print(model.summary())"
   ]
  }
 ],
 "metadata": {
  "kernelspec": {
   "display_name": "Python 3 (ipykernel)",
   "language": "python",
   "name": "python3"
  },
  "language_info": {
   "codemirror_mode": {
    "name": "ipython",
    "version": 3
   },
   "file_extension": ".py",
   "mimetype": "text/x-python",
   "name": "python",
   "nbconvert_exporter": "python",
   "pygments_lexer": "ipython3",
   "version": "3.9.13"
  },
  "toc-autonumbering": false,
  "toc-showcode": false,
  "toc-showmarkdowntxt": false
 },
 "nbformat": 4,
 "nbformat_minor": 5
}
